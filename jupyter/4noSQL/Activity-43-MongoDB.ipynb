{
 "cells": [
  {
   "cell_type": "markdown",
   "metadata": {},
   "source": [
    "# MongoDB\n",
    "Please read the instructions carefully, and post questions (including the steps you took and the errors you encountered) on Piazza if anything is unclear.\n",
    "\n",
    "## Submission Instructions\n",
    "\n",
    "We will walk through some examples, and then answer questions (marked with \"**a)**\", \"**b)**\", etc.)\n",
    "\n",
    "To submit your solutions, copy/paste the contents of each answer cell to the corresponding answer box in Gradescope HW8.\n",
    "\n",
    "\n",
    "## Setup Instructions\n",
    "\n",
    "1. For this notebook, you need to install MongoDB and have a MongoDB server running.\n",
    "\n",
    " To install for POSIX, use an appropriate package manager, e.g.:  \n",
    "    `brew install mongodb` (Mac)  \n",
    "    `apt-get install mongodb` (Ubuntu)\n",
    "\n",
    " To install for Windows, see:  \n",
    " https://docs.mongodb.com/manual/installation/\n",
    "\n",
    "\n",
    "2. Before you can run this notebook, you must start your MongoDB server from a terminal:\n",
    "\n",
    "  *Before you start MongoDB for the first time*, you must create a directory to store your data. Here, we have made a folder at our home directory; you may put yours elsewhere.\n",
    "\n",
    " `mkdir ~/mongodb-data`\n",
    "\n",
    " Then, to start the MongoDB server running, we also specify the folder where we are storing data: `mongod --dbpath ~/mongodb-data`.\n",
    "\n",
    " You can stop it again with `CTRL + C`.  \n",
    "\n",
    "\n",
    "3. Finally, you must also install a Python client library to interact with your local MongoDB server. Be sure you have run `pip install -r requirements.txt` with the up-to-date requirements file.\n",
    "\n",
    "\n",
    "## Let's get started"
   ]
  },
  {
   "cell_type": "code",
   "execution_count": null,
   "metadata": {},
   "outputs": [],
   "source": [
    "from pymongo import MongoClient"
   ]
  },
  {
   "cell_type": "code",
   "execution_count": null,
   "metadata": {},
   "outputs": [],
   "source": [
    "maxSevSelDelay = 1 # Assume 1ms maximum server selection delay\n",
    "client = MongoClient(serverSelectionTimeoutMS = maxSevSelDelay)"
   ]
  },
  {
   "cell_type": "code",
   "execution_count": null,
   "metadata": {},
   "outputs": [],
   "source": [
    "# Verify that the instance is running\n",
    "try:\n",
    "    client.admin.command('ismaster') # The ismaster command is cheap and does not require auth\n",
    "except Exception as ex:\n",
    "    # ex\n",
    "    print(\"We have a problem: the server is not running\")"
   ]
  },
  {
   "cell_type": "markdown",
   "metadata": {},
   "source": [
    "## Class examples"
   ]
  },
  {
   "cell_type": "code",
   "execution_count": null,
   "metadata": {},
   "outputs": [],
   "source": [
    "client.delete_database['test-database']\n",
    "\n",
    "db = client['test-database']"
   ]
  },
  {
   "cell_type": "code",
   "execution_count": null,
   "metadata": {},
   "outputs": [],
   "source": [
    "users = db['user']\n",
    "\n",
    "users.drop()"
   ]
  },
  {
   "cell_type": "code",
   "execution_count": null,
   "metadata": {},
   "outputs": [],
   "source": [
    "user1 = {\"name\": \"Alice\",\n",
    "         \"age\" : 21,\n",
    "         \"status\": \"A\",\n",
    "         \"groups\": [\"algorithms\", \"theory\"]}"
   ]
  },
  {
   "cell_type": "code",
   "execution_count": null,
   "metadata": {},
   "outputs": [],
   "source": [
    "users.count_documents({}) #We give an empty filter expression to count all documents"
   ]
  },
  {
   "cell_type": "code",
   "execution_count": null,
   "metadata": {},
   "outputs": [],
   "source": [
    "uid = users.insert_one(user1).inserted_id\n",
    "uid"
   ]
  },
  {
   "cell_type": "code",
   "execution_count": null,
   "metadata": {},
   "outputs": [],
   "source": [
    "uid = users.insert_one(\n",
    "    {\"name\": \"Bob\",\n",
    "     \"age\" : 18,\n",
    "     \"status\": \"B\",\n",
    "     \"groups\": [\"databases\", \"cooking\"]}\n",
    ").inserted_id\n",
    "print(uid)"
   ]
  },
  {
   "cell_type": "code",
   "execution_count": null,
   "metadata": {},
   "outputs": [],
   "source": [
    "# List all of the collections in our database:\n",
    "db.list_collection_names()"
   ]
  },
  {
   "cell_type": "code",
   "execution_count": null,
   "metadata": {
    "scrolled": true
   },
   "outputs": [],
   "source": [
    "users.count_documents({})"
   ]
  },
  {
   "cell_type": "code",
   "execution_count": null,
   "metadata": {},
   "outputs": [],
   "source": [
    "# return a single document (matching a query)\n",
    "users.find_one({\"name\" : \"Bob\"})"
   ]
  },
  {
   "cell_type": "code",
   "execution_count": null,
   "metadata": {},
   "outputs": [],
   "source": [
    "user3 = {\"name\": \"Charly\",\n",
    "         \"age\" : 22,\n",
    "         \"status\": \"A\",\n",
    "         \"groups\": [\"databases\", \"cars\"]}\n",
    "user4 = {\"name\": \"Dorothee\",\n",
    "         \"age\" : 16,\n",
    "         \"status\": \"A\",\n",
    "         \"groups\": [\"cars\", \"sports\"]}"
   ]
  },
  {
   "cell_type": "code",
   "execution_count": null,
   "metadata": {},
   "outputs": [],
   "source": [
    "result = users.insert_many([user3, user4])\n",
    "\n",
    "users.count_documents({})"
   ]
  },
  {
   "cell_type": "code",
   "execution_count": null,
   "metadata": {},
   "outputs": [],
   "source": [
    "from pprint import pprint # pretty printing library\n",
    "\n",
    "# find users of age 18\n",
    "for user in users.find({\"age\": 18}): \n",
    "    pprint(user)"
   ]
  },
  {
   "cell_type": "code",
   "execution_count": null,
   "metadata": {},
   "outputs": [],
   "source": [
    "# find users younger than 19\n",
    "for user in users.find({\"age\": {\"$lt\": 19}}): \n",
    "    pprint(user)"
   ]
  },
  {
   "cell_type": "code",
   "execution_count": null,
   "metadata": {},
   "outputs": [],
   "source": [
    "# find names of users younger than 19\n",
    "for user in users.find({\"age\": {\"$lt\": 19}}, projection={\"name\": 1, \"_id\" : 0}): \n",
    "    pprint(user)"
   ]
  },
  {
   "cell_type": "markdown",
   "metadata": {},
   "source": [
    "For more examples see, e.g.:\n",
    "http://api.mongodb.com/python/current/tutorial.html"
   ]
  },
  {
   "cell_type": "markdown",
   "metadata": {},
   "source": [
    "## More examples"
   ]
  },
  {
   "cell_type": "code",
   "execution_count": null,
   "metadata": {},
   "outputs": [],
   "source": [
    "client.delete_database['example_db']\n",
    "\n",
    "# operator overloading is cool!\n",
    "db = client['example_db']\n",
    "db = client.example_db"
   ]
  },
  {
   "cell_type": "code",
   "execution_count": null,
   "metadata": {},
   "outputs": [],
   "source": [
    "# collections are tables\n",
    "try:\n",
    "    db.drop_collection('mycollection')\n",
    "except:\n",
    "    print(\"Collection not found\")\n",
    "    raise\n",
    "    \n",
    "collection = db['mycollection']"
   ]
  },
  {
   "cell_type": "code",
   "execution_count": null,
   "metadata": {},
   "outputs": [],
   "source": [
    "collection.count_documents({})"
   ]
  },
  {
   "cell_type": "code",
   "execution_count": null,
   "metadata": {},
   "outputs": [],
   "source": [
    "doc_id = collection.insert_one({\"name\": \"Peter\", \"age\" : 99})"
   ]
  },
  {
   "cell_type": "code",
   "execution_count": null,
   "metadata": {},
   "outputs": [],
   "source": [
    "print(doc_id.inserted_id)"
   ]
  },
  {
   "cell_type": "code",
   "execution_count": null,
   "metadata": {},
   "outputs": [],
   "source": [
    "collection.find_one()"
   ]
  },
  {
   "cell_type": "code",
   "execution_count": null,
   "metadata": {},
   "outputs": [],
   "source": [
    "collection.insert_one({\"name\": \"Ruth\", \"age\" : 93})"
   ]
  },
  {
   "cell_type": "code",
   "execution_count": null,
   "metadata": {},
   "outputs": [],
   "source": [
    "collection.find_one()"
   ]
  },
  {
   "cell_type": "code",
   "execution_count": null,
   "metadata": {},
   "outputs": [],
   "source": [
    "collection.find_one({\"name\" : \"Ruth\"})"
   ]
  },
  {
   "cell_type": "code",
   "execution_count": null,
   "metadata": {},
   "outputs": [],
   "source": [
    "collection.find_one({\"name\" : \"bob\"})"
   ]
  },
  {
   "cell_type": "code",
   "execution_count": null,
   "metadata": {},
   "outputs": [],
   "source": [
    "for r in collection.find({\"name\" : \"Ruth\"}):\n",
    "    print(r)"
   ]
  },
  {
   "cell_type": "code",
   "execution_count": null,
   "metadata": {},
   "outputs": [],
   "source": [
    "collection.insert_one({\"fruit\": \"banana\", \"vegetable\": \"potato\"})"
   ]
  },
  {
   "cell_type": "code",
   "execution_count": null,
   "metadata": {},
   "outputs": [],
   "source": [
    "for r in collection.find():\n",
    "    print(r)"
   ]
  },
  {
   "cell_type": "code",
   "execution_count": null,
   "metadata": {},
   "outputs": [],
   "source": [
    "collection.insert_one({\"russian\" : {\"nesting\" : {\"dolls\" : \"rock\"}}})"
   ]
  },
  {
   "cell_type": "code",
   "execution_count": null,
   "metadata": {},
   "outputs": [],
   "source": [
    "print(collection.find_one(\"russian\"))"
   ]
  },
  {
   "cell_type": "code",
   "execution_count": null,
   "metadata": {},
   "outputs": [],
   "source": [
    "rec = collection.find_one({\"russian\":{\"$exists\":True}})\n",
    "print(rec)"
   ]
  },
  {
   "cell_type": "code",
   "execution_count": null,
   "metadata": {},
   "outputs": [],
   "source": [
    "rec['russian']"
   ]
  },
  {
   "cell_type": "code",
   "execution_count": null,
   "metadata": {},
   "outputs": [],
   "source": [
    "rec['russian']['nesting']['dolls']"
   ]
  },
  {
   "cell_type": "markdown",
   "metadata": {},
   "source": [
    "# IMDB exercise\n",
    "We try MongoDB for implementing the IMDB movie database. As a test run, we store a subset of the schema (Actors, Movies, Directors, and the connecting tables) and include a few tuples and queries. \n",
    "\n",
    "* Here, we choose to store the movie data with a single collection (called movies). Each document is a movie with fields that include the attributes of a movie, as well as a list of actors (including the actor attributes, and a list of roles they play in that movie), and a list of directors (including their respective attributes).\n",
    "\n",
    "* When you look for the attributes in the IMDB movie database, ignor the attributes movie id, director id, and actor id. We needed those for our PK FK relationships. Here now we don't neet them anymore.\n",
    "\n",
    "For the following problems you need to issue appropriate SQL queries over your local IMDB movie database to find out the missing attribute values (e.g., what is the name of actor with id `538826`, etc.."
   ]
  },
  {
   "cell_type": "markdown",
   "metadata": {},
   "source": [
    "**a)** Create a new movie collection and make sure that it is empty to begin with by deleting all documents inside."
   ]
  },
  {
   "cell_type": "code",
   "execution_count": null,
   "metadata": {},
   "outputs": [],
   "source": []
  },
  {
   "cell_type": "markdown",
   "metadata": {},
   "source": [
    "**b)** Insert an entry for the movie with movie id 476084. You should include all its attributes (like its name), together with all its directors, and three of its actors, namely those with actor ids 538826, 1794091, 1810514 as found in the IMDB movie database. For each of the actors, don't forget to include their attributes (like fname) and all roles they play in that movie."
   ]
  },
  {
   "cell_type": "code",
   "execution_count": null,
   "metadata": {},
   "outputs": [],
   "source": []
  },
  {
   "cell_type": "markdown",
   "metadata": {},
   "source": [
    "**c)** Create an entry for the movie with movie id 433969, together with all of its 3 directors as listed in our IMDB movie database. Ignore all actors in the movie, but include all movie attributes."
   ]
  },
  {
   "cell_type": "code",
   "execution_count": null,
   "metadata": {},
   "outputs": [],
   "source": []
  },
  {
   "cell_type": "markdown",
   "metadata": {},
   "source": [
    "**d)** Write a query to find the movie name and director names of all movies made before 2010."
   ]
  },
  {
   "cell_type": "code",
   "execution_count": null,
   "metadata": {},
   "outputs": [],
   "source": []
  }
 ],
 "metadata": {
  "kernelspec": {
   "display_name": "Python 2",
   "language": "python",
   "name": "python2"
  },
  "language_info": {
   "codemirror_mode": {
    "name": "ipython",
    "version": 2
   },
   "file_extension": ".py",
   "mimetype": "text/x-python",
   "name": "python",
   "nbconvert_exporter": "python",
   "pygments_lexer": "ipython2",
   "version": "2.7.14"
  }
 },
 "nbformat": 4,
 "nbformat_minor": 1
}
