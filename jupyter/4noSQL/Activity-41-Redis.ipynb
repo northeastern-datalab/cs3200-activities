{
 "cells": [
  {
   "cell_type": "markdown",
   "metadata": {},
   "source": [
    "# Redis\n",
    "Please read the instructions carefully, and post questions (including the steps you took and the errors you encountered) on Piazza if anything is unclear.\n",
    "\n",
    "## Submission Instructions\n",
    "\n",
    "We will walk through some examples, and then answer questions (marked with \"**a)**\", \"**b)**\", etc.)\n",
    "\n",
    "To submit your solutions, copy/paste the contents of each answer cell to the corresponding answer box in Gradescope HW8.\n",
    "\n",
    "\n",
    "## Setup Instructions\n",
    "\n",
    "1. For this notebook, you need to install Redis and have a Redis server running. Redis is written for POSIX systems (including Mac and Linux). \n",
    "\n",
    " To install for POSIX, use an appropriate package manager, e.g.:  \n",
    "    `brew install redis` (Mac)  \n",
    "    `apt-get install redis` (Ubuntu)\n",
    "\n",
    " To install Redis on Windows, you can use one of the following options:\n",
    "   * Windows Subsystem for Linux. First, install/setup WSL (https://docs.microsoft.com/en-us/windows/wsl/install-win10) and then setup Redis (https://medium.com/@RedisLabs/windows-subsystem-for-linux-wsl-10e3ca4d434e)\n",
    "   * Install a Windows port of Redis (https://github.com/MicrosoftArchive/redis)\n",
    "\n",
    "\n",
    "2. Before you can run this notebook, you must start your redis server from a terminal as follows:\n",
    "\n",
    " To start your Redis server running, do `redis-server`.\n",
    "\n",
    " You can stop it again with `CTRL + C`.  \n",
    "\n",
    "\n",
    "3. Finally, you must also install a Python client library to interact with your local Redis server. Be sure you have run `pip install -r requirements.txt` with the up-to-date requirements file.\n",
    "\n",
    "## Let's get started"
   ]
  },
  {
   "cell_type": "code",
   "execution_count": 86,
   "metadata": {},
   "outputs": [],
   "source": [
    "import redis"
   ]
  },
  {
   "cell_type": "code",
   "execution_count": null,
   "metadata": {},
   "outputs": [],
   "source": [
    "r = redis.Redis()"
   ]
  },
  {
   "cell_type": "code",
   "execution_count": null,
   "metadata": {},
   "outputs": [],
   "source": [
    "# Verify that the redis server is running\n",
    "try:\n",
    "    # r\n",
    "    r.ping()\n",
    "except Exception as ex:\n",
    "    # ex\n",
    "    print(\"We have a problem: the server is not running\")"
   ]
  },
  {
   "cell_type": "markdown",
   "metadata": {},
   "source": [
    "# Examples from slides\n",
    "Walk through these examples to get you started"
   ]
  },
  {
   "cell_type": "code",
   "execution_count": null,
   "metadata": {},
   "outputs": [],
   "source": [
    "r.set(\"x\", \"10\")"
   ]
  },
  {
   "cell_type": "code",
   "execution_count": null,
   "metadata": {},
   "outputs": [],
   "source": [
    "r.get('x')"
   ]
  },
  {
   "cell_type": "code",
   "execution_count": null,
   "metadata": {},
   "outputs": [],
   "source": [
    "r.hset(\"h\", \"y\", \"5\")\n",
    "\n",
    "r.hget(\"h\", \"y\")"
   ]
  },
  {
   "cell_type": "code",
   "execution_count": null,
   "metadata": {},
   "outputs": [],
   "source": [
    "r.hset(\"h1\", \"name\", \"two\")\n",
    "r.hset(\"h1\", \"value\", 2)\n",
    "\n",
    "r.hkeys(\"h1\")\n",
    "\n",
    "r.hget(\"h1\", \"name\")\n",
    "\n",
    "r.hgetall(\"h1\")"
   ]
  },
  {
   "cell_type": "code",
   "execution_count": null,
   "metadata": {},
   "outputs": [],
   "source": [
    "r.hmset(\"p:22\", {\"name\": \"Alice\", \"age\": \"25\"})\n",
    "\n",
    "r.hkeys(\"p:22\")\n",
    "\n",
    "r.hmget(\"p:22\", \"name\", \"age\", \"name\")\n",
    "\n",
    "r.hgetall(\"p:22\")"
   ]
  },
  {
   "cell_type": "code",
   "execution_count": null,
   "metadata": {},
   "outputs": [],
   "source": [
    "r.sadd(\"s\", 20)\n",
    "r.sadd(\"s\", \"Alice\")\n",
    "r.sadd(\"s\", \"Alice\")\n",
    "\n",
    "r.smembers(\"s\")\n",
    "r.scard(\"s\")"
   ]
  },
  {
   "cell_type": "code",
   "execution_count": null,
   "metadata": {},
   "outputs": [],
   "source": [
    "r.delete(\"l\")\n",
    "\n",
    "r.rpush(\"l\", \"a\")\n",
    "r.rpush(\"l\", \"b\")\n",
    "r.lpush(\"l\", \"c\")\n",
    "\n",
    "r.llen(\"l\")"
   ]
  },
  {
   "cell_type": "code",
   "execution_count": null,
   "metadata": {},
   "outputs": [],
   "source": [
    "r.lrange(\"l\", 0, 5)\n",
    "r.lrange(\"l\", 1, 2)\n",
    "r.lindex(\"l\", 1)\n",
    "r.lrange(\"l\", 0, -1) # return the entire list using '-1'"
   ]
  },
  {
   "cell_type": "code",
   "execution_count": null,
   "metadata": {},
   "outputs": [],
   "source": [
    "r.lpop(\"l\")\n",
    "r.rpop(\"l\")\n",
    "r.lrange(\"l\", 0, -1)"
   ]
  },
  {
   "cell_type": "code",
   "execution_count": null,
   "metadata": {},
   "outputs": [],
   "source": [
    "r.keys()"
   ]
  },
  {
   "cell_type": "code",
   "execution_count": null,
   "metadata": {},
   "outputs": [],
   "source": [
    "r.exists(\"l\")"
   ]
  },
  {
   "cell_type": "code",
   "execution_count": null,
   "metadata": {},
   "outputs": [],
   "source": [
    "r.keys()"
   ]
  },
  {
   "cell_type": "code",
   "execution_count": null,
   "metadata": {},
   "outputs": [],
   "source": [
    "r.flushall()"
   ]
  },
  {
   "cell_type": "code",
   "execution_count": null,
   "metadata": {},
   "outputs": [],
   "source": [
    "r.keys()"
   ]
  },
  {
   "cell_type": "markdown",
   "metadata": {},
   "source": [
    "# Transactions\n",
    "\n",
    "Redis support transactions. \n",
    "\n",
    "\n",
    "```\n",
    "> MULTI \n",
    "OK\n",
    "\n",
    "> SET y 8 \n",
    "QUEUED \n",
    "\n",
    "> INCR count \n",
    "QUEUED \n",
    "\n",
    "> EXEC\n",
    "1) OK\n",
    "2) (integer) 2\n",
    "\n",
    "```\n",
    "\n"
   ]
  },
  {
   "cell_type": "code",
   "execution_count": null,
   "metadata": {},
   "outputs": [],
   "source": [
    "r.delete(\"y\") #In case you run this cell multiple times...\n",
    "p = r.pipeline()\n",
    "p.set(\"y\", 8)\n",
    "p.incr(\"count\")\n",
    "before_execution = r.get(\"y\")\n",
    "p.execute()\n",
    "after_execution = r.get(\"y\")\n",
    "\n",
    "print(before_execution)\n",
    "print(after_execution)"
   ]
  },
  {
   "cell_type": "markdown",
   "metadata": {},
   "source": [
    "# More examples"
   ]
  },
  {
   "cell_type": "code",
   "execution_count": null,
   "metadata": {},
   "outputs": [],
   "source": [
    "r.set('count',1)"
   ]
  },
  {
   "cell_type": "code",
   "execution_count": null,
   "metadata": {},
   "outputs": [],
   "source": [
    "r.incr('count')"
   ]
  },
  {
   "cell_type": "code",
   "execution_count": null,
   "metadata": {},
   "outputs": [],
   "source": [
    "r.decr('count')"
   ]
  },
  {
   "cell_type": "code",
   "execution_count": null,
   "metadata": {},
   "outputs": [],
   "source": [
    "r.rpush(\"students\", \"peter\")"
   ]
  },
  {
   "cell_type": "code",
   "execution_count": null,
   "metadata": {},
   "outputs": [],
   "source": [
    "r.llen(\"students\")"
   ]
  },
  {
   "cell_type": "code",
   "execution_count": null,
   "metadata": {},
   "outputs": [],
   "source": [
    "r.rpush(\"students\", \"ruth\")"
   ]
  },
  {
   "cell_type": "code",
   "execution_count": null,
   "metadata": {},
   "outputs": [],
   "source": [
    "r.lindex(\"students\", 1)"
   ]
  },
  {
   "cell_type": "code",
   "execution_count": null,
   "metadata": {},
   "outputs": [],
   "source": [
    "r.rpush(\"students\", \"jones\")"
   ]
  },
  {
   "cell_type": "code",
   "execution_count": null,
   "metadata": {},
   "outputs": [],
   "source": [
    "r.rpush(\"students\", \"jones\", \"freddy\", \"mary\")\n"
   ]
  },
  {
   "cell_type": "code",
   "execution_count": null,
   "metadata": {},
   "outputs": [],
   "source": [
    "r.lrange(\"students\", 0, -1)"
   ]
  },
  {
   "cell_type": "markdown",
   "metadata": {},
   "source": [
    "# IMDB exercise"
   ]
  },
  {
   "cell_type": "markdown",
   "metadata": {},
   "source": [
    "We will use Redis to implement part of the IMDB movie database we have used previously. We will store a subset of the schema (Actors, Movies, Directors, and the connecting tables), and include a few tuples and queries. \n",
    "\n",
    "Here are a few decisions we can make on how to implement IMDB using Redis:\n",
    "* We can make a Redis entry representing a tuple from IMDB. We can store the tuple's *primary key* as the *key* of our Redis entry, and all of the tuple's *attributes* as a *hash table in the value* of our Redis entry. We can use the following notation to explain this: `Alice -> \"country\": \"USA\", \"birthday\": \"1/1/1970\"`. \n",
    "* We will use suffixes in the keys to store the unique identifiers from IMDB. For example, for movies, we could have entries `m:2`, `m:7`, `m:8`, etc.\n",
    "* Actors and Directors receive unique identifiers analogously, such as `a:1`, `a:3`,  ... , and `d:213`, `d:435`, ...\n",
    "* When we represent the associative entity \"movie_director\", we do not need to represent any attributes. Therefore, we can use Redis entries of the form `m:2:d -> {\"d:213\", \"d:435\"}`. Notice - we have used the prefix and suffix of the key (`m:` and `:d`) to indicate what entities are being represented, and we have managed to associate one movie ID with a set of director IDs.\n",
    "* When we represent the associative entity \"casts\", we do have additional attributes to deal with. Therefore, we can make entries of the form `m:2:a:8 -> {\"bartender\", \"cab driver\"}`. Notice that because we wanted to add attributes, we needed to make more granular entries. \n",
    "\n",
    "\n",
    "Finally, note that you will need to issue appropriate SQL queries over your local IMDB movie database to find out the missing attribute values (e.g., what is the name of actor `a:538826`, etc..)\n"
   ]
  },
  {
   "cell_type": "markdown",
   "metadata": {},
   "source": [
    "**a)** Make an entry for the movie with id 476084 in the IMDB movie database"
   ]
  },
  {
   "cell_type": "code",
   "execution_count": null,
   "metadata": {},
   "outputs": [],
   "source": []
  },
  {
   "cell_type": "markdown",
   "metadata": {},
   "source": [
    "**b)** Make entries for the actors with ids 538826, 1794091, 1810514 in the IMDB movie database"
   ]
  },
  {
   "cell_type": "code",
   "execution_count": null,
   "metadata": {},
   "outputs": [],
   "source": []
  },
  {
   "cell_type": "markdown",
   "metadata": {},
   "source": [
    "**c)** Make an entry for the director with id 170296 in the IMDB movie database.\n"
   ]
  },
  {
   "cell_type": "code",
   "execution_count": null,
   "metadata": {},
   "outputs": [],
   "source": []
  },
  {
   "cell_type": "markdown",
   "metadata": {},
   "source": [
    "**d)** Associate the director ``d:170296`` as the director for movie ``m:476084``, using the approach described above."
   ]
  },
  {
   "cell_type": "code",
   "execution_count": null,
   "metadata": {},
   "outputs": [],
   "source": []
  },
  {
   "cell_type": "markdown",
   "metadata": {},
   "source": [
    "**e)** Associate the three actors with the movie, using the approach described above. Notice that an actor can play multiple roles in a movie."
   ]
  },
  {
   "cell_type": "code",
   "execution_count": null,
   "metadata": {},
   "outputs": [],
   "source": []
  },
  {
   "cell_type": "markdown",
   "metadata": {},
   "source": [
    "**f)** Query the number of directors for the movie `m:476084`."
   ]
  },
  {
   "cell_type": "code",
   "execution_count": null,
   "metadata": {},
   "outputs": [],
   "source": []
  },
  {
   "cell_type": "markdown",
   "metadata": {},
   "source": [
    "**g)** Query the set of ids for all directors of the movie m:`476084`."
   ]
  },
  {
   "cell_type": "code",
   "execution_count": null,
   "metadata": {},
   "outputs": [],
   "source": []
  },
  {
   "cell_type": "markdown",
   "metadata": {},
   "source": [
    "**h)** Determine whether actor `a:538826` acted in `m:476084`. \n",
    "        Then repeat the query for actor `a:1`."
   ]
  },
  {
   "cell_type": "code",
   "execution_count": null,
   "metadata": {},
   "outputs": [],
   "source": []
  },
  {
   "cell_type": "markdown",
   "metadata": {},
   "source": [
    "**i)** Change the release year of `m:476084` to 2018."
   ]
  },
  {
   "cell_type": "code",
   "execution_count": null,
   "metadata": {},
   "outputs": [],
   "source": []
  },
  {
   "cell_type": "markdown",
   "metadata": {},
   "source": [
    "**j)** Verify that the release year has been updated by retrieving all attributes for movie `m:476084`."
   ]
  },
  {
   "cell_type": "code",
   "execution_count": null,
   "metadata": {},
   "outputs": [],
   "source": []
  },
  {
   "cell_type": "markdown",
   "metadata": {},
   "source": [
    "# Intersted to learn more?\n",
    "In case you are intersted and want to learn more about redis and the Python module we are using, check out:\n",
    "* https://redislabs.com/lp/python-redis/\n",
    "\n",
    "* https://redis.io/topics/quickstart\n",
    "\n",
    "* https://pypi.python.org/pypi/redis\n"
   ]
  }
 ],
 "metadata": {
  "kernelspec": {
   "display_name": "Python 2",
   "language": "python",
   "name": "python2"
  },
  "language_info": {
   "codemirror_mode": {
    "name": "ipython",
    "version": 2
   },
   "file_extension": ".py",
   "mimetype": "text/x-python",
   "name": "python",
   "nbconvert_exporter": "python",
   "pygments_lexer": "ipython2",
   "version": "2.7.14"
  }
 },
 "nbformat": 4,
 "nbformat_minor": 1
}
